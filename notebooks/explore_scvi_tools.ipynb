{
 "cells": [
  {
   "cell_type": "code",
   "execution_count": 1,
   "id": "1f1f6543",
   "metadata": {},
   "outputs": [],
   "source": [
    "%load_ext autoreload\n",
    "%autoreload 2\n",
    "import sys\n",
    "sys.path.append('/home/labs/amit/noamsh/repos/sc_clustering')"
   ]
  },
  {
   "cell_type": "code",
   "execution_count": null,
   "id": "898716da",
   "metadata": {
    "pycharm": {
     "is_executing": true
    }
   },
   "outputs": [],
   "source": [
    "import pandas as pd\n",
    "import scanpy as sc\n",
    "import anndata as ad\n",
    "import numpy as np\n",
    "from sklearn import metrics\n",
    "\n",
    "import scvi\n",
    "\n",
    "from pathlib import Path"
   ]
  },
  {
   "cell_type": "code",
   "execution_count": null,
   "id": "eb062e0f",
   "metadata": {
    "pycharm": {
     "is_executing": true
    }
   },
   "outputs": [],
   "source": [
    "import config"
   ]
  },
  {
   "cell_type": "code",
   "execution_count": 4,
   "id": "f3bf1d9c",
   "metadata": {},
   "outputs": [
    {
     "ename": "FileNotFoundError",
     "evalue": "[Errno 2] Unable to open file (unable to open file: name = '/home/labs/amit/noamsh/clustering_results/simple_clustering_2021_06_17__16_16_30/loaded_data.h5ad', errno = 2, error message = 'No such file or directory', flags = 0, o_flags = 0)",
     "output_type": "error",
     "traceback": [
      "\u001B[0;31m---------------------------------------------------------------------------\u001B[0m",
      "\u001B[0;31mFileNotFoundError\u001B[0m                         Traceback (most recent call last)",
      "\u001B[0;32m<ipython-input-4-7706ad3c46c6>\u001B[0m in \u001B[0;36m<module>\u001B[0;34m\u001B[0m\n\u001B[1;32m      1\u001B[0m \u001B[0mresult_path\u001B[0m \u001B[0;34m=\u001B[0m \u001B[0mPath\u001B[0m\u001B[0;34m(\u001B[0m\u001B[0mconfig\u001B[0m\u001B[0;34m.\u001B[0m\u001B[0mRESULTS_DIR\u001B[0m\u001B[0;34m,\u001B[0m \u001B[0;34m\"simple_clustering_2021_06_17__16_16_30\"\u001B[0m\u001B[0;34m,\u001B[0m \u001B[0;34m\"loaded_data.h5ad\"\u001B[0m\u001B[0;34m)\u001B[0m\u001B[0;34m\u001B[0m\u001B[0;34m\u001B[0m\u001B[0m\n\u001B[0;32m----> 2\u001B[0;31m \u001B[0madata\u001B[0m \u001B[0;34m=\u001B[0m \u001B[0mad\u001B[0m\u001B[0;34m.\u001B[0m\u001B[0mread\u001B[0m\u001B[0;34m(\u001B[0m\u001B[0mresult_path\u001B[0m\u001B[0;34m)\u001B[0m\u001B[0;34m\u001B[0m\u001B[0;34m\u001B[0m\u001B[0m\n\u001B[0m\u001B[1;32m      3\u001B[0m \u001B[0;34m\u001B[0m\u001B[0m\n",
      "\u001B[0;32m~/.conda/envs/sc_clustering_noam/lib/python3.9/site-packages/anndata/_io/h5ad.py\u001B[0m in \u001B[0;36mread_h5ad\u001B[0;34m(filename, backed, as_sparse, as_sparse_fmt, chunk_size)\u001B[0m\n\u001B[1;32m    406\u001B[0m     )\n\u001B[1;32m    407\u001B[0m \u001B[0;34m\u001B[0m\u001B[0m\n\u001B[0;32m--> 408\u001B[0;31m     \u001B[0;32mwith\u001B[0m \u001B[0mh5py\u001B[0m\u001B[0;34m.\u001B[0m\u001B[0mFile\u001B[0m\u001B[0;34m(\u001B[0m\u001B[0mfilename\u001B[0m\u001B[0;34m,\u001B[0m \u001B[0;34m\"r\"\u001B[0m\u001B[0;34m)\u001B[0m \u001B[0;32mas\u001B[0m \u001B[0mf\u001B[0m\u001B[0;34m:\u001B[0m\u001B[0;34m\u001B[0m\u001B[0;34m\u001B[0m\u001B[0m\n\u001B[0m\u001B[1;32m    409\u001B[0m         \u001B[0md\u001B[0m \u001B[0;34m=\u001B[0m \u001B[0;34m{\u001B[0m\u001B[0;34m}\u001B[0m\u001B[0;34m\u001B[0m\u001B[0;34m\u001B[0m\u001B[0m\n\u001B[1;32m    410\u001B[0m         \u001B[0;32mfor\u001B[0m \u001B[0mk\u001B[0m \u001B[0;32min\u001B[0m \u001B[0mf\u001B[0m\u001B[0;34m.\u001B[0m\u001B[0mkeys\u001B[0m\u001B[0;34m(\u001B[0m\u001B[0;34m)\u001B[0m\u001B[0;34m:\u001B[0m\u001B[0;34m\u001B[0m\u001B[0;34m\u001B[0m\u001B[0m\n",
      "\u001B[0;32m~/.conda/envs/sc_clustering_noam/lib/python3.9/site-packages/h5py/_hl/files.py\u001B[0m in \u001B[0;36m__init__\u001B[0;34m(self, name, mode, driver, libver, userblock_size, swmr, rdcc_nslots, rdcc_nbytes, rdcc_w0, track_order, fs_strategy, fs_persist, fs_threshold, **kwds)\u001B[0m\n\u001B[1;32m    440\u001B[0m             \u001B[0;32mwith\u001B[0m \u001B[0mphil\u001B[0m\u001B[0;34m:\u001B[0m\u001B[0;34m\u001B[0m\u001B[0;34m\u001B[0m\u001B[0m\n\u001B[1;32m    441\u001B[0m                 \u001B[0mfapl\u001B[0m \u001B[0;34m=\u001B[0m \u001B[0mmake_fapl\u001B[0m\u001B[0;34m(\u001B[0m\u001B[0mdriver\u001B[0m\u001B[0;34m,\u001B[0m \u001B[0mlibver\u001B[0m\u001B[0;34m,\u001B[0m \u001B[0mrdcc_nslots\u001B[0m\u001B[0;34m,\u001B[0m \u001B[0mrdcc_nbytes\u001B[0m\u001B[0;34m,\u001B[0m \u001B[0mrdcc_w0\u001B[0m\u001B[0;34m,\u001B[0m \u001B[0;34m**\u001B[0m\u001B[0mkwds\u001B[0m\u001B[0;34m)\u001B[0m\u001B[0;34m\u001B[0m\u001B[0;34m\u001B[0m\u001B[0m\n\u001B[0;32m--> 442\u001B[0;31m                 fid = make_fid(name, mode, userblock_size,\n\u001B[0m\u001B[1;32m    443\u001B[0m                                fapl, fcpl=make_fcpl(track_order=track_order, fs_strategy=fs_strategy,\n\u001B[1;32m    444\u001B[0m                                fs_persist=fs_persist, fs_threshold=fs_threshold),\n",
      "\u001B[0;32m~/.conda/envs/sc_clustering_noam/lib/python3.9/site-packages/h5py/_hl/files.py\u001B[0m in \u001B[0;36mmake_fid\u001B[0;34m(name, mode, userblock_size, fapl, fcpl, swmr)\u001B[0m\n\u001B[1;32m    193\u001B[0m         \u001B[0;32mif\u001B[0m \u001B[0mswmr\u001B[0m \u001B[0;32mand\u001B[0m \u001B[0mswmr_support\u001B[0m\u001B[0;34m:\u001B[0m\u001B[0;34m\u001B[0m\u001B[0;34m\u001B[0m\u001B[0m\n\u001B[1;32m    194\u001B[0m             \u001B[0mflags\u001B[0m \u001B[0;34m|=\u001B[0m \u001B[0mh5f\u001B[0m\u001B[0;34m.\u001B[0m\u001B[0mACC_SWMR_READ\u001B[0m\u001B[0;34m\u001B[0m\u001B[0;34m\u001B[0m\u001B[0m\n\u001B[0;32m--> 195\u001B[0;31m         \u001B[0mfid\u001B[0m \u001B[0;34m=\u001B[0m \u001B[0mh5f\u001B[0m\u001B[0;34m.\u001B[0m\u001B[0mopen\u001B[0m\u001B[0;34m(\u001B[0m\u001B[0mname\u001B[0m\u001B[0;34m,\u001B[0m \u001B[0mflags\u001B[0m\u001B[0;34m,\u001B[0m \u001B[0mfapl\u001B[0m\u001B[0;34m=\u001B[0m\u001B[0mfapl\u001B[0m\u001B[0;34m)\u001B[0m\u001B[0;34m\u001B[0m\u001B[0;34m\u001B[0m\u001B[0m\n\u001B[0m\u001B[1;32m    196\u001B[0m     \u001B[0;32melif\u001B[0m \u001B[0mmode\u001B[0m \u001B[0;34m==\u001B[0m \u001B[0;34m'r+'\u001B[0m\u001B[0;34m:\u001B[0m\u001B[0;34m\u001B[0m\u001B[0;34m\u001B[0m\u001B[0m\n\u001B[1;32m    197\u001B[0m         \u001B[0mfid\u001B[0m \u001B[0;34m=\u001B[0m \u001B[0mh5f\u001B[0m\u001B[0;34m.\u001B[0m\u001B[0mopen\u001B[0m\u001B[0;34m(\u001B[0m\u001B[0mname\u001B[0m\u001B[0;34m,\u001B[0m \u001B[0mh5f\u001B[0m\u001B[0;34m.\u001B[0m\u001B[0mACC_RDWR\u001B[0m\u001B[0;34m,\u001B[0m \u001B[0mfapl\u001B[0m\u001B[0;34m=\u001B[0m\u001B[0mfapl\u001B[0m\u001B[0;34m)\u001B[0m\u001B[0;34m\u001B[0m\u001B[0;34m\u001B[0m\u001B[0m\n",
      "\u001B[0;32mh5py/_objects.pyx\u001B[0m in \u001B[0;36mh5py._objects.with_phil.wrapper\u001B[0;34m()\u001B[0m\n",
      "\u001B[0;32mh5py/_objects.pyx\u001B[0m in \u001B[0;36mh5py._objects.with_phil.wrapper\u001B[0;34m()\u001B[0m\n",
      "\u001B[0;32mh5py/h5f.pyx\u001B[0m in \u001B[0;36mh5py.h5f.open\u001B[0;34m()\u001B[0m\n",
      "\u001B[0;31mFileNotFoundError\u001B[0m: [Errno 2] Unable to open file (unable to open file: name = '/home/labs/amit/noamsh/clustering_results/simple_clustering_2021_06_17__16_16_30/loaded_data.h5ad', errno = 2, error message = 'No such file or directory', flags = 0, o_flags = 0)"
     ]
    }
   ],
   "source": [
    "result_path = Path(config.RESULTS_DIR, \"simple_clustering_2021_06_17__16_16_30\", \"loaded_data.h5ad\")\n",
    "adata = ad.read(result_path)"
   ]
  },
  {
   "cell_type": "code",
   "execution_count": 5,
   "id": "eb3cb58a",
   "metadata": {},
   "outputs": [],
   "source": [
    "sc.pp.filter_genes(adata, min_counts=3)"
   ]
  },
  {
   "cell_type": "code",
   "execution_count": 6,
   "id": "eadb884c",
   "metadata": {},
   "outputs": [
    {
     "name": "stderr",
     "output_type": "stream",
     "text": [
      "WARNING: Some cells have total count of genes equal to zero\n"
     ]
    }
   ],
   "source": [
    "adata.layers[\"counts\"] = adata.X.copy() # preserve counts\n",
    "sc.pp.normalize_total(adata, target_sum=1e4)\n",
    "sc.pp.log1p(adata)\n",
    "adata.raw = adata # freeze the state in `.raw`"
   ]
  },
  {
   "cell_type": "code",
   "execution_count": 7,
   "id": "a6ad597c",
   "metadata": {},
   "outputs": [],
   "source": [
    "sc.pp.highly_variable_genes(\n",
    "    adata,\n",
    "    n_top_genes=1200,\n",
    "    subset=True,\n",
    "    layer=\"counts\",\n",
    "    flavor=\"seurat_v3\",\n",
    ")"
   ]
  },
  {
   "cell_type": "code",
   "execution_count": 8,
   "id": "d9c58cbd",
   "metadata": {},
   "outputs": [
    {
     "data": {
      "text/plain": [
       "'0.11.0'"
      ]
     },
     "execution_count": 8,
     "metadata": {},
     "output_type": "execute_result"
    }
   ],
   "source": [
    "scvi.__version__"
   ]
  },
  {
   "cell_type": "code",
   "execution_count": 9,
   "id": "06dda034",
   "metadata": {},
   "outputs": [
    {
     "name": "stdout",
     "output_type": "stream",
     "text": [
      "\u001B[34mINFO    \u001B[0m No batch_key inputted, assuming all cells are same batch                            \n",
      "\u001B[34mINFO    \u001B[0m No label_key inputted, assuming all cells have same label                           \n",
      "\u001B[34mINFO    \u001B[0m Using data from adata.X                                                             \n",
      "\u001B[34mINFO    \u001B[0m Computing library size prior per batch                                              \n",
      "\u001B[34mINFO    \u001B[0m Successfully registered anndata object containing \u001B[1;36m52608\u001B[0m cells, \u001B[1;36m1200\u001B[0m vars, \u001B[1;36m1\u001B[0m batches,\n",
      "         \u001B[1;36m1\u001B[0m labels, and \u001B[1;36m0\u001B[0m proteins. Also registered \u001B[1;36m0\u001B[0m extra categorical covariates and \u001B[1;36m0\u001B[0m extra\n",
      "         continuous covariates.                                                              \n",
      "\u001B[34mINFO    \u001B[0m Please do not further modify adata until model is trained.                          \n"
     ]
    },
    {
     "name": "stderr",
     "output_type": "stream",
     "text": [
      "This dataset has some empty cells, this might fail inference.Data should be filtered with `scanpy.pp.filter_cells()`\n"
     ]
    }
   ],
   "source": [
    "scvi.data.setup_anndata(adata)"
   ]
  },
  {
   "cell_type": "code",
   "execution_count": 10,
   "id": "e18e573b",
   "metadata": {},
   "outputs": [
    {
     "name": "stderr",
     "output_type": "stream",
     "text": [
      "Make sure the registered X field in anndata contains unnormalized count data.\n"
     ]
    },
    {
     "data": {
      "text/html": [
       "<pre style=\"white-space:pre;overflow-x:auto;line-height:normal;font-family:Menlo,'DejaVu Sans Mono',consolas,'Courier New',monospace\">SCVI Model with the following params: \n",
       "n_hidden: <span style=\"color: #008080; text-decoration-color: #008080; font-weight: bold\">128</span>, n_latent: <span style=\"color: #008080; text-decoration-color: #008080; font-weight: bold\">10</span>, n_layers: <span style=\"color: #008080; text-decoration-color: #008080; font-weight: bold\">1</span>, dropout_rate: <span style=\"color: #008080; text-decoration-color: #008080; font-weight: bold\">0.1</span>, dispersion: gene, \n",
       "gene_likelihood: zinb, latent_distribution: normal\n",
       "Training status: Not Trained\n",
       "</pre>\n"
      ],
      "text/plain": [
       "SCVI Model with the following params: \n",
       "n_hidden: \u001B[1;36m128\u001B[0m, n_latent: \u001B[1;36m10\u001B[0m, n_layers: \u001B[1;36m1\u001B[0m, dropout_rate: \u001B[1;36m0.1\u001B[0m, dispersion: gene, \n",
       "gene_likelihood: zinb, latent_distribution: normal\n",
       "Training status: Not Trained\n"
      ]
     },
     "metadata": {},
     "output_type": "display_data"
    },
    {
     "data": {
      "text/html": [
       "<pre style=\"white-space:pre;overflow-x:auto;line-height:normal;font-family:Menlo,'DejaVu Sans Mono',consolas,'Courier New',monospace\">\n",
       "\n",
       "To print summary of associated AnnData, use: <span style=\"color: #af00d7; text-decoration-color: #af00d7\">scvi.data.view_anndata_setup(model.adata)</span>\n",
       "</pre>\n"
      ],
      "text/plain": [
       "\n",
       "\n",
       "To print summary of associated AnnData, use: \u001B[38;5;128mscvi.data.view_anndata_setup(model.adata)\u001B[0m\n"
      ]
     },
     "metadata": {},
     "output_type": "display_data"
    },
    {
     "data": {
      "text/plain": []
     },
     "execution_count": 10,
     "metadata": {},
     "output_type": "execute_result"
    }
   ],
   "source": [
    "model = scvi.model.SCVI(adata)\n",
    "model"
   ]
  },
  {
   "cell_type": "code",
   "execution_count": 11,
   "id": "c2de2231",
   "metadata": {},
   "outputs": [
    {
     "name": "stderr",
     "output_type": "stream",
     "text": [
      "GPU available: False, used: False\n",
      "TPU available: False, using: 0 TPU cores\n"
     ]
    },
    {
     "name": "stdout",
     "output_type": "stream",
     "text": [
      "Epoch 1/152:   0%|          | 0/152 [00:00<?, ?it/s]"
     ]
    },
    {
     "name": "stderr",
     "output_type": "stream",
     "text": [
      "The value argument must be within the support of the distribution\n"
     ]
    },
    {
     "name": "stdout",
     "output_type": "stream",
     "text": [
      "Epoch 152/152: 100%|██████████| 152/152 [27:47<00:00, 10.97s/it, loss=77.3, v_num=1]\n"
     ]
    }
   ],
   "source": [
    "model.train()"
   ]
  },
  {
   "cell_type": "code",
   "execution_count": null,
   "id": "d773e8af",
   "metadata": {},
   "outputs": [],
   "source": [
    "mode"
   ]
  }
 ],
 "metadata": {
  "kernelspec": {
   "display_name": "Python 3",
   "language": "python",
   "name": "python3"
  },
  "language_info": {
   "codemirror_mode": {
    "name": "ipython",
    "version": 3
   },
   "file_extension": ".py",
   "mimetype": "text/x-python",
   "name": "python",
   "nbconvert_exporter": "python",
   "pygments_lexer": "ipython3",
   "version": "3.9.5"
  }
 },
 "nbformat": 4,
 "nbformat_minor": 5
}